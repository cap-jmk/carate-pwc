{
 "cells": [
  {
   "cell_type": "code",
   "execution_count": 1,
   "id": "cdbd83fa-6bbb-4ed7-8570-b53df095560f",
   "metadata": {},
   "outputs": [],
   "source": [
    "# Develop plots for the publication\n"
   ]
  },
  {
   "cell_type": "code",
   "execution_count": 2,
   "id": "d66ac0c5-fc1a-4178-bdf5-17a7d7f5a706",
   "metadata": {
    "tags": []
   },
   "outputs": [],
   "source": [
    "from carate.plotting.base_plots import plot_range_band_single, plot_range_band_multi\n",
    "from carate.statistics.analysis import get_stacked_list"
   ]
  },
  {
   "cell_type": "code",
   "execution_count": 3,
   "id": "d583eac9-945c-4b01-8c67-89663ac4c9eb",
   "metadata": {
    "tags": []
   },
   "outputs": [
    {
     "name": "stdout",
     "output_type": "stream",
     "text": [
      "data\n",
      "len of results is 500\n",
      "dict_keys(['Loss', 'Acc_train', 'Acc_test', 'AUC'])\n",
      "<class 'list'>\n"
     ]
    },
    {
     "ename": "NameError",
     "evalue": "name 'key_val' is not defined",
     "output_type": "error",
     "traceback": [
      "\u001b[0;31m---------------------------------------------------------------------------\u001b[0m",
      "\u001b[0;31mNameError\u001b[0m                                 Traceback (most recent call last)",
      "Cell \u001b[0;32mIn[3], line 14\u001b[0m\n\u001b[1;32m     12\u001b[0m \u001b[38;5;28mprint\u001b[39m(result[\u001b[38;5;241m0\u001b[39m]\u001b[38;5;241m.\u001b[39mkeys())\n\u001b[1;32m     13\u001b[0m \u001b[38;5;28mprint\u001b[39m(\u001b[38;5;28mtype\u001b[39m(result))\n\u001b[0;32m---> 14\u001b[0m \u001b[43mplot_range_band_single\u001b[49m\u001b[43m(\u001b[49m\u001b[43mresult\u001b[49m\u001b[43m,\u001b[49m\u001b[43m \u001b[49m\u001b[43mkey_val\u001b[49m\u001b[38;5;241;43m=\u001b[39;49m\u001b[38;5;124;43m\"\u001b[39;49m\u001b[38;5;124;43mAcc_test\u001b[39;49m\u001b[38;5;124;43m\"\u001b[39;49m\u001b[43m,\u001b[49m\u001b[43m \u001b[49m\u001b[43mfile_name\u001b[49m\u001b[38;5;241;43m=\u001b[39;49m\u001b[38;5;124;43m\"\u001b[39;49m\u001b[38;5;124;43mENZYMES_accuracy\u001b[39;49m\u001b[38;5;124;43m\"\u001b[39;49m\u001b[43m,\u001b[49m\u001b[43m \u001b[49m\u001b[43msave_dir\u001b[49m\u001b[38;5;241;43m=\u001b[39;49m\u001b[38;5;124;43m\"\u001b[39;49m\u001b[38;5;124;43m./plots\u001b[39;49m\u001b[38;5;124;43m\"\u001b[39;49m\u001b[43m,\u001b[49m\u001b[43m \u001b[49m\u001b[43malpha\u001b[49m\u001b[38;5;241;43m=\u001b[39;49m\u001b[38;5;241;43m0.4\u001b[39;49m\u001b[43m,\u001b[49m\u001b[43m \u001b[49m\u001b[43mlegend_text\u001b[49m\u001b[38;5;241;43m=\u001b[39;49m\u001b[43mlegend_text\u001b[49m\u001b[43m)\u001b[49m\n",
      "File \u001b[0;32m~/carate/carate/plotting/base_plots.py:95\u001b[0m, in \u001b[0;36mplot_range_band_single\u001b[0;34m(result, key_val, file_name, alpha, fixed_y_lim, save_dir, legend_text)\u001b[0m\n\u001b[1;32m     92\u001b[0m min_val: List[\u001b[38;5;28mfloat\u001b[39m]\n\u001b[1;32m     93\u001b[0m avg_val: List[\u001b[38;5;28mfloat\u001b[39m]\n\u001b[0;32m---> 95\u001b[0m max_val, min_val, avg_val \u001b[38;5;241m=\u001b[39m \u001b[43mget_min_max_avg_cv_run\u001b[49m\u001b[43m(\u001b[49m\u001b[43mresult\u001b[49m\u001b[38;5;241;43m=\u001b[39;49m\u001b[43mresult\u001b[49m\u001b[43m,\u001b[49m\u001b[43m \u001b[49m\u001b[43mkey_val\u001b[49m\u001b[38;5;241;43m=\u001b[39;49m\u001b[43mkey_val\u001b[49m\u001b[43m)\u001b[49m\n\u001b[1;32m     97\u001b[0m fig, axis \u001b[38;5;241m=\u001b[39m plt\u001b[38;5;241m.\u001b[39msubplots()\n\u001b[1;32m     98\u001b[0m \u001b[38;5;28;01mif\u001b[39;00m legend_text \u001b[38;5;129;01mis\u001b[39;00m \u001b[38;5;129;01mnot\u001b[39;00m \u001b[38;5;28;01mNone\u001b[39;00m:\n",
      "File \u001b[0;32m~/carate/carate/plotting/base_plots.py:155\u001b[0m, in \u001b[0;36mget_min_max_avg_cv_run\u001b[0;34m(result, key_val)\u001b[0m\n\u001b[1;32m    152\u001b[0m min_val \u001b[38;5;241m=\u001b[39m []\n\u001b[1;32m    153\u001b[0m avg_val \u001b[38;5;241m=\u001b[39m []\n\u001b[0;32m--> 155\u001b[0m arr_res \u001b[38;5;241m=\u001b[39m \u001b[43munpack_run\u001b[49m\u001b[43m(\u001b[49m\u001b[43mresult\u001b[49m\u001b[43m)\u001b[49m\n\u001b[1;32m    157\u001b[0m \u001b[38;5;28;01mfor\u001b[39;00m i \u001b[38;5;129;01min\u001b[39;00m \u001b[38;5;28mrange\u001b[39m(arr_res\u001b[38;5;241m.\u001b[39mshape[\u001b[38;5;241m1\u001b[39m]):\n\u001b[1;32m    158\u001b[0m     max_val\u001b[38;5;241m.\u001b[39mappend(get_max(arr_res[:, i]\u001b[38;5;241m.\u001b[39mtolist()))\n",
      "File \u001b[0;32m~/carate/carate/statistics/analysis.py:85\u001b[0m, in \u001b[0;36munpack_run\u001b[0;34m(result_list)\u001b[0m\n\u001b[1;32m     68\u001b[0m \u001b[38;5;28;01mdef\u001b[39;00m \u001b[38;5;21munpack_run\u001b[39m(result_list:List[Dict[\u001b[38;5;28mstr\u001b[39m, \u001b[38;5;28mfloat\u001b[39m]])\u001b[38;5;241m-\u001b[39m\u001b[38;5;241m>\u001b[39mList[List[\u001b[38;5;28mfloat\u001b[39m]]:\n\u001b[1;32m     69\u001b[0m \u001b[38;5;250m    \u001b[39m\u001b[38;5;124;03m\"\"\"\u001b[39;00m\n\u001b[1;32m     70\u001b[0m \u001b[38;5;124;03m    The unpack_run function takes a list of dictionaries and returns a list of lists.\u001b[39;00m\n\u001b[1;32m     71\u001b[0m \u001b[38;5;124;03m    The input is the output from the run_experiment function, which is a list of dictionaries.\u001b[39;00m\n\u001b[0;32m   (...)\u001b[0m\n\u001b[1;32m     82\u001b[0m \u001b[38;5;124;03m    :doc-author: Trelent\u001b[39;00m\n\u001b[1;32m     83\u001b[0m \u001b[38;5;124;03m    \"\"\"\u001b[39;00m \n\u001b[0;32m---> 85\u001b[0m     arr_res \u001b[38;5;241m=\u001b[39m np\u001b[38;5;241m.\u001b[39mzeros((\u001b[38;5;28mlen\u001b[39m(result_list), \u001b[38;5;28mlen\u001b[39m(result_list[\u001b[38;5;241m0\u001b[39m][\u001b[43mkey_val\u001b[49m])))\n\u001b[1;32m     87\u001b[0m     \u001b[38;5;28;01mfor\u001b[39;00m i, res \u001b[38;5;129;01min\u001b[39;00m \u001b[38;5;28menumerate\u001b[39m(result_list):\n\u001b[1;32m     88\u001b[0m         \u001b[38;5;28;01massert\u001b[39;00m \u001b[38;5;28mlen\u001b[39m(res[key_val]) \u001b[38;5;241m==\u001b[39m arr_res\u001b[38;5;241m.\u001b[39mshape[\u001b[38;5;241m1\u001b[39m], \u001b[38;5;28mstr\u001b[39m(\u001b[38;5;28mlen\u001b[39m(res[key_val])) \u001b[38;5;241m+\u001b[39m \u001b[38;5;28mstr\u001b[39m(\n\u001b[1;32m     89\u001b[0m             arr_res\u001b[38;5;241m.\u001b[39mshape[\u001b[38;5;241m1\u001b[39m]\n\u001b[1;32m     90\u001b[0m         )\n",
      "\u001b[0;31mNameError\u001b[0m: name 'key_val' is not defined"
     ]
    }
   ],
   "source": [
    "import pandas as pd\n",
    "\n",
    "path_to_directory = \"./data/Classification/MOLT-4/data\"\n",
    "result = get_stacked_list(\n",
    "        path_to_directory=path_to_directory,\n",
    "        num_cv=5,\n",
    "        json_name=\"MOLT-4.json\",\n",
    "    )\n",
    "legend_text = path_to_directory.split(\"/\")[-1]\n",
    "print(legend_text)\n",
    "print(\"len of results is\", len(result[0][\"Loss\"]))\n",
    "print(result[0].keys())\n",
    "print(type(result))\n",
    "plot_range_band_single(result, key_val=\"Acc_test\", file_name=\"ENZYMES_accuracy\", save_dir=\"./plots\", alpha=0.4, legend_text=legend_text)"
   ]
  },
  {
   "cell_type": "code",
   "execution_count": null,
   "id": "10fa7934-704c-4aaa-b97b-b13ac4357fb8",
   "metadata": {},
   "outputs": [],
   "source": [
    "plot_range_band_multi(result, key_vals=[\"Acc_train\", \"Acc_test\"], file_name=f\"{legend_text}_multi_accuracy\", save_dir=\"./plots\", alpha=0.4, title_text=legend_text)"
   ]
  },
  {
   "cell_type": "code",
   "execution_count": null,
   "id": "8f670f2d-ba1e-4e0b-abba-16d6b0fd78b4",
   "metadata": {
    "tags": []
   },
   "outputs": [],
   "source": [
    "import pandas as pd\n",
    "\n",
    "path_to_directory = \"./data/Regression/ALCHEMY_20_test_training_length_no_norm/data\"\n",
    "result = get_stacked_list(\n",
    "        path_to_directory=path_to_directory,\n",
    "        num_cv=5,\n",
    "        json_name=\"alchemy_full.json\",\n",
    "    )\n",
    "legend_text = path_to_directory.split(\"/\")[-1]\n",
    "print(legend_text)\n",
    "print(\"len of results is\", len(result[1][\"MAE Train\"]))\n",
    "print(result[0].keys())\n",
    "print(type(result))\n",
    "plot_range_band_single(result, key_val=\"MSE Train\", file_name=\"ENZYMES_accuracy\", save_dir=\"./plots\", alpha=0.4, legend_text=legend_text)"
   ]
  },
  {
   "cell_type": "code",
   "execution_count": null,
   "id": "fef2dd92-a693-4b5f-adeb-d12ae46160f0",
   "metadata": {
    "tags": []
   },
   "outputs": [],
   "source": [
    "plot_range_band_multi(result, key_vals=[\"MSE Train\", \"MSE Test\"], file_name=f\"{legend_text}_multi_accuracy\", save_dir=\"./plots\", alpha=0.4, title_text=legend_text)"
   ]
  },
  {
   "cell_type": "markdown",
   "id": "dc23d3e3-d758-41cb-8518-8af417ba09de",
   "metadata": {},
   "source": [
    "# Plott all Runs into single files"
   ]
  },
  {
   "cell_type": "code",
   "execution_count": null,
   "id": "a1f56927-8021-4ee3-8665-293c74f2f5bc",
   "metadata": {
    "tags": []
   },
   "outputs": [],
   "source": [
    "from typing import Tuple\n",
    "import os \n",
    "from amarium.utils import append_slash\n",
    "\n",
    "\n",
    "\n",
    "def plot_runs(base_dir:str, val_single:str=\"Acc_test\", val_multi:Tuple[str]=(\"Acc_train\", \"Acc_test\"))->None:\n",
    "    run_dirs = os.listdir(base_dir)\n",
    "\n",
    "    for run_dir in run_dirs: \n",
    "        full_dir = append_slash(base_dir) + append_slash(run_dir) + append_slash(\"data\")\n",
    "        name = os.listdir(full_dir + append_slash(\"CV_0\"))[0]\n",
    "        legend_text = full_dir.split(\"/\")[-3]\n",
    "        print(f\"Plotting:{legend_text}\")\n",
    "        result = get_stacked_list(\n",
    "        path_to_directory=full_dir,\n",
    "        num_cv=5,\n",
    "        json_name=name,\n",
    "        )\n",
    "\n",
    "        plot_range_band_single(result, key_val=val_single, file_name=f\"{legend_text}_accuracy\", save_dir=\"./plots\", alpha=0.4, legend_text=legend_text)\n",
    "        plot_range_band_multi(result, key_vals=val_multi, file_name=f\"{legend_text}_multi_accuracy\", save_dir=\"./plots\", alpha=0.4, title_text=legend_text)"
   ]
  },
  {
   "cell_type": "code",
   "execution_count": null,
   "id": "f4903fe9-9c34-445b-96b9-377103a7828d",
   "metadata": {
    "tags": []
   },
   "outputs": [],
   "source": [
    "\n",
    "base_dirs= [\"./data/Classification\", \"./data/Regression\"]\n",
    "plot_runs(base_dirs[0])\n",
    "plot_runs(base_dirs[1], val_single = \"MSE Test\", val_multi = [\"MSE Train\", \"MSE Test\"])"
   ]
  },
  {
   "cell_type": "markdown",
   "id": "122a00d7-85f0-4223-be03-b368d4cc7042",
   "metadata": {},
   "source": [
    "# Statistics \n"
   ]
  },
  {
   "cell_type": "code",
   "execution_count": null,
   "id": "e3b5df5b-dbc4-45a8-872a-f3d3508e103d",
   "metadata": {
    "tags": []
   },
   "outputs": [],
   "source": [
    "from typing import List\n",
    "import numpy as np\n",
    "def get_best_average(step_list: List[float]):\n",
    "    print(len(step_list))\n",
    "    best_vals = np.max(step_list.shape)\n",
    "    print(best_vals)"
   ]
  },
  {
   "cell_type": "code",
   "execution_count": null,
   "id": "a8a19e35-035e-4fa7-9e03-0d270e897f26",
   "metadata": {
    "tags": []
   },
   "outputs": [],
   "source": [
    "path_to_directory = \"./data/Classification/MOLT-4/data\"\n",
    "result = get_stacked_list(\n",
    "        path_to_directory=path_to_directory,\n",
    "        num_cv=5,\n",
    "        json_name=\"MOLT-4.json\",\n",
    "    )\n",
    "print(result[0].keys())\n",
    "get_best_average(result)"
   ]
  },
  {
   "cell_type": "code",
   "execution_count": null,
   "id": "313bc3da-ccb7-4c9c-8788-8b2ee3104bc5",
   "metadata": {},
   "outputs": [],
   "source": []
  },
  {
   "cell_type": "code",
   "execution_count": null,
   "id": "657d4db1-00b9-410c-9f26-d8823076c968",
   "metadata": {},
   "outputs": [],
   "source": []
  }
 ],
 "metadata": {
  "kernelspec": {
   "display_name": "Python 3 (ipykernel)",
   "language": "python",
   "name": "python3"
  },
  "language_info": {
   "codemirror_mode": {
    "name": "ipython",
    "version": 3
   },
   "file_extension": ".py",
   "mimetype": "text/x-python",
   "name": "python",
   "nbconvert_exporter": "python",
   "pygments_lexer": "ipython3",
   "version": "3.10.10"
  },
  "vscode": {
   "interpreter": {
    "hash": "073ac225df8a8e7b4e029b39e0cb6096bf1899cb57b05e4577524dd487ed77e2"
   }
  }
 },
 "nbformat": 4,
 "nbformat_minor": 5
}
