{
 "cells": [
  {
   "cell_type": "code",
   "execution_count": 1,
   "metadata": {},
   "outputs": [
    {
     "name": "stderr",
     "output_type": "stream",
     "text": [
      "/home/dev/carate/venv/lib/python3.10/site-packages/tqdm/auto.py:22: TqdmWarning: IProgress not found. Please update jupyter and ipywidgets. See https://ipywidgets.readthedocs.io/en/stable/user_install.html\n",
      "  from .autonotebook import tqdm as notebook_tqdm\n"
     ]
    }
   ],
   "source": [
    "from carate.run import RunInitializer\n",
    "\n",
    "# Set Parameters\n",
    "parameters = {\n",
    "\"dataset_name\" : \"PROTEINS\",\n",
    "\"num_classes\" : 2,\n",
    "\"num_features\" : 3,\n",
    "\"model\" : \"cgc_classification\",\n",
    "\"evaluation\" : \"classification\",\n",
    "\"optimizer\" : \"adams\",  # defaults to adams optimizer\n",
    "\"net_dimension\" : 364,\n",
    "\"learning_rate\" : 0.0005,\n",
    "\"dataset_save_path\" : \"./data\",\n",
    "\"test_ratio\" : 20,\n",
    "\"batch_size\" : 64,\n",
    "\"shuffle\" : True,\n",
    "\"num_epoch\" : 5000,\n",
    "\"num_cv\" : 5,\n",
    "\"result_save_dir\" : \"./PROTEINS_20\",\n",
    "\"data_set\" : \"StandardTUD\",\n",
    "\"model_save_freq\" : 30\n",
    "}\n",
    "\n",
    "\n"
   ]
  },
  {
   "cell_type": "code",
   "execution_count": 4,
   "metadata": {},
   "outputs": [
    {
     "name": "stdout",
     "output_type": "stream",
     "text": [
      "5 5\n",
      "5000 150\n",
      "2 2\n",
      "PROTEINS PROTEINS\n",
      "./data ./data\n",
      "20 20\n",
      "StandardTUDataset StandardTUDataset\n",
      "True True\n",
      "64 64\n",
      "Net(\n",
      "  (conv1): GraphConv(3, 364)\n",
      "  (conv3): GATConv(364, 364, heads=16)\n",
      "  (conv5): GraphConv(5824, 364)\n",
      "  (fc1): Linear(in_features=364, out_features=364, bias=True)\n",
      "  (fc2): Linear(in_features=364, out_features=2, bias=True)\n",
      ") cgc_classification\n",
      "Adam (\n",
      "Parameter Group 0\n",
      "    amsgrad: False\n",
      "    betas: (0.9, 0.999)\n",
      "    capturable: False\n",
      "    differentiable: False\n",
      "    eps: 1e-08\n",
      "    foreach: None\n",
      "    fused: False\n",
      "    lr: 0.0005\n",
      "    maximize: False\n",
      "    weight_decay: 0\n",
      ") adams\n",
      "cpu cpu\n",
      "./PROTEINS_20 ./PROTEINS_20\n",
      "30 30\n"
     ]
    },
    {
     "name": "stderr",
     "output_type": "stream",
     "text": [
      "Downloading https://www.chrsmrrs.com/graphkerneldatasets/PROTEINS.zip\n",
      "Extracting data/PROTEINS/PROTEINS.zip\n",
      "Processing...\n",
      "Done!\n",
      "/home/dev/carate/venv/lib/python3.10/site-packages/torch_geometric/deprecation.py:12: UserWarning: 'data.DataLoader' is deprecated, use 'loader.DataLoader' instead\n",
      "  warnings.warn(out)\n"
     ]
    },
    {
     "ename": "",
     "evalue": "",
     "output_type": "error",
     "traceback": [
      "\u001b[1;31mCanceled future for execute_request message before replies were done"
     ]
    },
    {
     "ename": "",
     "evalue": "",
     "output_type": "error",
     "traceback": [
      "\u001b[1;31mThe Kernel crashed while executing code in the the current cell or a previous cell. Please review the code in the cell(s) to identify a possible cause of the failure. Click <a href='https://aka.ms/vscodeJupyterKernelCrash'>here</a> for more info. View Jupyter <a href='command:jupyter.viewOutput'>log</a> for further details."
     ]
    }
   ],
   "source": [
    "\n",
    "runner = RunInitializer.from_json(json_object=parameters)\n",
    "runner.run()"
   ]
  },
  {
   "cell_type": "markdown",
   "metadata": {},
   "source": [
    "# Write own class and register it \n",
    "\n",
    "If you want to write your own modules you can easily do so via registering your model and own infrastructure"
   ]
  },
  {
   "cell_type": "code",
   "execution_count": null,
   "metadata": {},
   "outputs": [],
   "source": []
  },
  {
   "cell_type": "code",
   "execution_count": null,
   "metadata": {},
   "outputs": [],
   "source": [
    "build own dataset \n",
    "\n",
    "https://github.com/pyg-team/pytorch_geometric/blob/master/examples/qm9_nn_conv.py"
   ]
  }
 ],
 "metadata": {
  "kernelspec": {
   "display_name": "venv",
   "language": "python",
   "name": "python3"
  },
  "language_info": {
   "codemirror_mode": {
    "name": "ipython",
    "version": 3
   },
   "file_extension": ".py",
   "mimetype": "text/x-python",
   "name": "python",
   "nbconvert_exporter": "python",
   "pygments_lexer": "ipython3",
   "version": "3.10.6 (main, Nov 14 2022, 16:10:14) [GCC 11.3.0]"
  },
  "orig_nbformat": 4,
  "vscode": {
   "interpreter": {
    "hash": "073ac225df8a8e7b4e029b39e0cb6096bf1899cb57b05e4577524dd487ed77e2"
   }
  }
 },
 "nbformat": 4,
 "nbformat_minor": 2
}
