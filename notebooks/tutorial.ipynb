{
 "cells": [
  {
   "cell_type": "code",
   "execution_count": 3,
   "metadata": {},
   "outputs": [],
   "source": [
    "from carate.runner.run import RunInitializer\n",
    "\n",
    "# Set Parameters\n",
    "parameters = {\n",
    "\"dataset_name\" : \"PROTEINS\",\n",
    "\"num_classes\" : 2,\n",
    "\"num_features\" : 3,\n",
    "\"model\" : \"cgc_classification\",\n",
    "\"evaluation\" : \"classification\",\n",
    "\"optimizer\" : \"adams\",  # defaults to adams optimizer\n",
    "\"net_dimension\" : 364,\n",
    "\"learning_rate\" : 0.0005,\n",
    "\"dataset_save_path\" : \"./data\",\n",
    "\"test_ratio\" : 20,\n",
    "\"batch_size\" : 64,\n",
    "\"shuffle\" : True,\n",
    "\"num_epoch\" : 5000,\n",
    "\"num_cv\" : 5,\n",
    "\"result_save_dir\" : \"./PROTEINS_20\",\n",
    "\"data_set\" : \"StandardTUD\",\n",
    "\"model_save_freq\" : 30\n",
    "}\n",
    "\n",
    "\n"
   ]
  },
  {
   "cell_type": "code",
   "execution_count": 4,
   "metadata": {},
   "outputs": [
    {
     "ename": "TypeError",
     "evalue": "ConfigInitializer.from_json() missing 1 required positional argument: 'file_name'",
     "output_type": "error",
     "traceback": [
      "\u001b[0;31m---------------------------------------------------------------------------\u001b[0m",
      "\u001b[0;31mTypeError\u001b[0m                                 Traceback (most recent call last)",
      "Cell \u001b[0;32mIn[4], line 1\u001b[0m\n\u001b[0;32m----> 1\u001b[0m runner \u001b[39m=\u001b[39m RunInitializer\u001b[39m.\u001b[39;49mfrom_json(json_object\u001b[39m=\u001b[39;49mparameters)\n\u001b[1;32m      2\u001b[0m runner\u001b[39m.\u001b[39mrun()\n",
      "File \u001b[0;32m~/carate/carate/runner/run.py:142\u001b[0m, in \u001b[0;36mRunInitializer.from_json\u001b[0;34m(cls, json_object)\u001b[0m\n\u001b[1;32m    140\u001b[0m \u001b[39m@classmethod\u001b[39m\n\u001b[1;32m    141\u001b[0m \u001b[39mdef\u001b[39;00m \u001b[39mfrom_json\u001b[39m(\u001b[39mcls\u001b[39m, json_object: Dict[Any, Any]) \u001b[39m-\u001b[39m\u001b[39m>\u001b[39m Run:\n\u001b[0;32m--> 142\u001b[0m     config \u001b[39m=\u001b[39m ConfigInitializer\u001b[39m.\u001b[39;49mfrom_json(json_object\u001b[39m=\u001b[39;49mjson_object)\n\u001b[1;32m    143\u001b[0m     run_object \u001b[39m=\u001b[39m RunInitializer\u001b[39m.\u001b[39m__init_config(config)\n\u001b[1;32m    144\u001b[0m     \u001b[39mreturn\u001b[39;00m run_object\n",
      "\u001b[0;31mTypeError\u001b[0m: ConfigInitializer.from_json() missing 1 required positional argument: 'file_name'"
     ]
    }
   ],
   "source": [
    "\n",
    "runner = RunInitializer.from_json(json_object=parameters)\n",
    "runner.run()"
   ]
  },
  {
   "cell_type": "markdown",
   "metadata": {},
   "source": [
    "# Write own class and register it \n",
    "\n",
    "If you want to write your own modules you can easily do so via registering your model and own infrastructure"
   ]
  },
  {
   "cell_type": "code",
   "execution_count": null,
   "metadata": {},
   "outputs": [],
   "source": []
  },
  {
   "cell_type": "code",
   "execution_count": null,
   "metadata": {},
   "outputs": [],
   "source": [
    "build own dataset \n",
    "\n",
    "https://github.com/pyg-team/pytorch_geometric/blob/master/examples/qm9_nn_conv.py"
   ]
  }
 ],
 "metadata": {
  "kernelspec": {
   "display_name": "venv",
   "language": "python",
   "name": "python3"
  },
  "language_info": {
   "codemirror_mode": {
    "name": "ipython",
    "version": 3
   },
   "file_extension": ".py",
   "mimetype": "text/x-python",
   "name": "python",
   "nbconvert_exporter": "python",
   "pygments_lexer": "ipython3",
   "version": "3.11.2"
  },
  "orig_nbformat": 4,
  "vscode": {
   "interpreter": {
    "hash": "073ac225df8a8e7b4e029b39e0cb6096bf1899cb57b05e4577524dd487ed77e2"
   }
  }
 },
 "nbformat": 4,
 "nbformat_minor": 2
}
